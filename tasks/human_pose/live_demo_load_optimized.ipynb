{
 "cells": [
  {
   "cell_type": "code",
   "execution_count": null,
   "metadata": {},
   "outputs": [],
   "source": [
    "import json\n",
    "import trt_pose.coco\n",
    "\n",
    "with open('human_pose.json', 'r') as f:\n",
    "    human_pose = json.load(f)\n",
    "\n",
    "topology = trt_pose.coco.coco_category_to_topology(human_pose)"
   ]
  },
  {
   "cell_type": "code",
   "execution_count": null,
   "metadata": {},
   "outputs": [],
   "source": [
    "import trt_pose.models\n",
    "\n",
    "num_parts = len(human_pose['keypoints'])\n",
    "num_links = len(human_pose['skeleton'])\n",
    "\n",
    "model = trt_pose.models.resnet18_baseline_att(num_parts, 2 * num_links).cuda().eval()"
   ]
  },
  {
   "cell_type": "code",
   "execution_count": null,
   "metadata": {},
   "outputs": [],
   "source": [
    "import torch\n",
    "\n",
    "WIDTH = 224\n",
    "HEIGHT = 224\n",
    "\n",
    "data = torch.zeros((1, 3, HEIGHT, WIDTH)).cuda()"
   ]
  },
  {
   "cell_type": "code",
   "execution_count": null,
   "metadata": {},
   "outputs": [],
   "source": [
    "import torch2trt\n",
    "OPTIMIZED_MODEL = 'resnet18_baseline_att_224x224_A_epoch_249_trt.pth'\n",
    "\n",
    "from torch2trt import TRTModule\n",
    "model_trt = TRTModule()\n",
    "model_trt.load_state_dict(torch.load(OPTIMIZED_MODEL))"
   ]
  },
  {
   "cell_type": "code",
   "execution_count": null,
   "metadata": {},
   "outputs": [],
   "source": [
    "import time\n",
    "\n",
    "#t0 = time.time()\n",
    "#torch.cuda.current_stream().synchronize()\n",
    "#for i in range(50):\n",
    "#    y = model_trt(data)\n",
    "#torch.cuda.current_stream().synchronize()\n",
    "#t1 = time.time()\n",
    "\n",
    "#print(50.0 / (t1 - t0))"
   ]
  },
  {
   "cell_type": "code",
   "execution_count": null,
   "metadata": {},
   "outputs": [],
   "source": [
    "import cv2\n",
    "import torchvision.transforms as transforms\n",
    "import PIL.Image\n",
    "\n",
    "mean = torch.Tensor([0.485, 0.456, 0.406]).cuda()\n",
    "std = torch.Tensor([0.229, 0.224, 0.225]).cuda()\n",
    "device = torch.device('cuda')\n",
    "\n",
    "def preprocess(image):\n",
    "    global device\n",
    "    device = torch.device('cuda')\n",
    "    image = cv2.cvtColor(image, cv2.COLOR_BGR2RGB)\n",
    "    image = PIL.Image.fromarray(image)\n",
    "    image = transforms.functional.to_tensor(image).to(device)\n",
    "    image.sub_(mean[:, None, None]).div_(std[:, None, None])\n",
    "    return image[None, ...]"
   ]
  },
  {
   "cell_type": "code",
   "execution_count": null,
   "metadata": {},
   "outputs": [],
   "source": [
    "from trt_pose.draw_objects import DrawObjects\n",
    "from trt_pose.parse_objects import ParseObjects\n",
    "\n",
    "parse_objects = ParseObjects(topology)\n",
    "draw_objects = DrawObjects(topology)"
   ]
  },
  {
   "cell_type": "code",
   "execution_count": null,
   "metadata": {},
   "outputs": [],
   "source": [
    "#from jetcam.usb_camera import USBCamera\n",
    "from jetcam.csi_camera import CSICamera\n",
    "#from jetcam.utils import bgr8_to_jpeg\n",
    "\n",
    "#camera = USBCamera(width=WIDTH, height=HEIGHT, capture_fps=30)\n",
    "camera = CSICamera(width=WIDTH, height=HEIGHT, capture_fps=15)\n",
    "\n",
    "camera.running = True"
   ]
  },
  {
   "cell_type": "code",
   "execution_count": null,
   "metadata": {},
   "outputs": [],
   "source": [
    "import ipywidgets\n",
    "from IPython.display import display\n",
    "from jetcam.utils import bgr8_to_jpeg\n",
    "\n",
    "image_w = ipywidgets.Image(format='jpeg', width=WIDTH, height=HEIGHT)\n",
    "\n",
    "display(image_w)"
   ]
  },
  {
   "cell_type": "code",
   "execution_count": null,
   "metadata": {},
   "outputs": [],
   "source": [
    "import numpy as np\n",
    "import shutil\n",
    "global folder\n",
    "camera.running = True\n",
    "folder = \"/home/jetbot/Desktop/\"\n",
    "file_path = folder + \"temp.csv\"\n",
    "f = open(file_path, \"a\")"
   ]
  },
  {
   "cell_type": "code",
   "execution_count": null,
   "metadata": {},
   "outputs": [],
   "source": [
    "def get_keypoint(humans, hnum, peaks):\n",
    "    #check invalid human index\n",
    "    kpoint = []\n",
    "    human = humans[0][hnum]\n",
    "    C = human.shape[0]\n",
    "    for j in range(C):\n",
    "        k = int(human[j])\n",
    "        if k >= 0:\n",
    "            peak = peaks[0][j][k]   # peak[1]:width, peak[0]:height\n",
    "            peak = [j, float(peak[0]), float(peak[1])]\n",
    "            kpoint.append(peak)\n",
    "            #print('index:%d : success [%5.3f, %5.3f]'%(j, peak[1], peak[2]) )\n",
    "        else:    \n",
    "            peak = [j, -1, -1] # -1 = None\n",
    "            kpoint.append(peak)\n",
    "            #print('index:%d : None %d'%(j, k) )\n",
    "    return kpoint"
   ]
  },
  {
   "cell_type": "code",
   "execution_count": null,
   "metadata": {},
   "outputs": [],
   "source": [
    "from threading import Thread\n",
    "import os\n",
    "def upload():\n",
    "    global upload_running\n",
    "    upload_running = 1\n",
    "    # for this to work we need to exchange credentials manually first and install sshpass\n",
    "    # change password for the real password, user for the real username and ip for the real ip or domain\n",
    "    # change the path after ip_of_server: to match the real path where you want to save the files\n",
    "    cmd = \"sshpass \\\"password\\\"scp /home/jetbot/Desktop/data/*1*.csv username@ip_of_server:/home/jetbot/data/\"\n",
    "    ret = os.system(cmd)\n",
    "    if ret != 0:\n",
    "        print(str(int(time.time()))+ \" upload returned error code: \" + str(ret))\n",
    "    upload_running = 0\n",
    "    files_copied = 0\n",
    "    "
   ]
  },
  {
   "cell_type": "code",
   "execution_count": null,
   "metadata": {},
   "outputs": [],
   "source": [
    "def execute(change):\n",
    "    image = change['new']\n",
    "    data = preprocess(image)\n",
    "    cmap, paf = model_trt(data)\n",
    "    cmap, paf = cmap.detach().cpu(), paf.detach().cpu()\n",
    "    counts, objects, peaks = parse_objects(cmap, paf)#, cmap_threshold=0.15, link_threshold=0.15)\n",
    "    keypoints = get_keypoint(objects, 0, peaks) # 0 for just the first human recognized in the frame\n",
    "    # print(keypoints) # print keypoints for first human recognized in the frame\n",
    "    draw_objects(image, counts, objects, peaks)\n",
    "    image_w.value = bgr8_to_jpeg(image[:, ::-1, :])\n",
    "    np.savetxt(f, keypoints, delimiter=',', fmt='%.4f', newline='\\n')\n",
    "    global kp_sets_saved\n",
    "    global files_copied\n",
    "    kp_sets_saved = kp_sets_saved + 1\n",
    "    print(\"kp sets saved: \" + str(kp_sets_saved))\n",
    "    if kp_sets_saved == 100: # save every 100 sets of keypoints\n",
    "        current_epoch = int(time.time())\n",
    "        new_file = folder + str(current_epoch) + \".csv\"\n",
    "        print(str(int(time.time())) + \" temp file copied to: \" + new_file)\n",
    "        shutil.copy(file_path, new_file)\n",
    "        files_copied = files_copied + 1\n",
    "        kp_sets_saved = 0\n",
    "        print(str(int(time.time())) + \" temp file truncated\")\n",
    "        f.truncate()\n",
    "    #if files_copied == 20 and upload_running == 0:\n",
    "        # disabled until tested\n",
    "        # thread = Thread(target = threaded_function, args = (10, )) \n",
    "        # thread.start()"
   ]
  },
  {
   "cell_type": "code",
   "execution_count": null,
   "metadata": {},
   "outputs": [],
   "source": [
    "kp_sets_saved = 0\n",
    "files_copied = 0\n",
    "upload_running = 0\n",
    "execute({'new': camera.value})"
   ]
  },
  {
   "cell_type": "code",
   "execution_count": null,
   "metadata": {},
   "outputs": [],
   "source": [
    "camera.observe(execute, names='value')"
   ]
  },
  {
   "cell_type": "code",
   "execution_count": null,
   "metadata": {},
   "outputs": [],
   "source": [
    "camera.unobserve_all()"
   ]
  },
  {
   "cell_type": "code",
   "execution_count": null,
   "metadata": {},
   "outputs": [],
   "source": [
    "f.close()"
   ]
  },
  {
   "cell_type": "code",
   "execution_count": null,
   "metadata": {},
   "outputs": [],
   "source": []
  }
 ],
 "metadata": {
  "kernelspec": {
   "display_name": "Python 3",
   "language": "python",
   "name": "python3"
  },
  "language_info": {
   "codemirror_mode": {
    "name": "ipython",
    "version": 3
   },
   "file_extension": ".py",
   "mimetype": "text/x-python",
   "name": "python",
   "nbconvert_exporter": "python",
   "pygments_lexer": "ipython3",
   "version": "3.6.9"
  }
 },
 "nbformat": 4,
 "nbformat_minor": 4
}
